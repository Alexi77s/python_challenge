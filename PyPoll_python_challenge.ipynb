{
 "cells": [
  {
   "cell_type": "code",
   "execution_count": 54,
   "id": "3cb59e5c",
   "metadata": {},
   "outputs": [
    {
     "name": "stdout",
     "output_type": "stream",
     "text": [
      "Charles Casper Stockham: 23.049%, (85,213)\n",
      "Diana DeGette: 73.812%, (272,892)\n",
      "Raymon Anthony Doane: 3.139%, (11,606)\n",
      "---------------------\n",
      "Total Votes: 369711\n",
      "---------------------\n",
      "Winner: Diana DeGette\n",
      "Winning percentage: 73.812%\n",
      "\n"
     ]
    }
   ],
   "source": [
    "import os\n",
    "import csv\n",
    "\n",
    "PyPollpath=os.path.join('..', 'Resources', 'election_data.csv')\n",
    "PyPollpath=r\"C:\\Users\\alexi\\Downloads\\Starter_Code (10)\\Starter_Code\\PyPoll\\Resources\\election_data.csv\"\n",
    "\n",
    "#intialize list with a dictionary for the data\n",
    "count=0\n",
    "options=[]\n",
    "votes={}\n",
    "winner=\"\"\n",
    "winning_count=0\n",
    "winning_percentage=0\n",
    "\n",
    "\n",
    "#open csv\n",
    "with open(PyPollpath, encoding='utf') as csvfile:\n",
    "    csvreader=csv.reader(csvfile, delimiter=\",\")\n",
    "    csv_header=next(csvreader)\n",
    "    \n",
    "          \n",
    "    #ask\n",
    "    for row in csvreader:\n",
    "        count=count+1\n",
    "        candidatelist=row[2]\n",
    "        \n",
    "        if candidatelist not in options:\n",
    "            options.append(candidatelist)\n",
    "            votes[candidatelist]=0\n",
    "        \n",
    "        votes[candidatelist]=votes[candidatelist]+1\n",
    "        \n",
    "    for candidatelist in votes:\n",
    "        candidate_vote=votes[candidatelist]\n",
    "        vote_percentage=float(candidate_vote)/float(count)*100\n",
    "        results=(f\"{candidatelist}: {vote_percentage:.3f}%, ({candidate_vote:,})\")\n",
    "        \n",
    "    \n",
    "        \n",
    "        if (candidate_vote > winning_count) and (vote_percentage > winning_percentage):\n",
    "            winning_count=candidate_vote\n",
    "            winning_percentage=vote_percentage\n",
    "            winner=candidatelist\n",
    "            \n",
    "        results=f\"{candidatelist}: {vote_percentage:.3f}%, ({candidate_vote:,})\\n\"\n",
    "        print(results,end=\"\")\n",
    "        \n",
    "        file=open(\"Candidates_list\", \"w\")\n",
    "        file.writelines(results)\n",
    "        file.close()\n",
    "\n",
    "            \n",
    "analysis=( \n",
    "f\"---------------------\\n\"\n",
    "f\"Total Votes: {str(count)}\\n\"  \n",
    "f\"---------------------\\n\"\n",
    "f\"Winner: {winner}\\n\"\n",
    "f\"Winning percentage: {winning_percentage:.3f}%\\n\")\n",
    "\n",
    "\n",
    "print(analysis)\n",
    "\n",
    "file=open(\"PyPoll.txt\", \"w\")\n",
    "file.writelines(analysis)\n",
    "file.close()\n",
    "   \n",
    "# i had an issue exporting the candidates percentage and total votes to the export text file but it did come out on the jupyter."
   ]
  },
  {
   "cell_type": "code",
   "execution_count": null,
   "id": "8bb3147b",
   "metadata": {},
   "outputs": [],
   "source": []
  },
  {
   "cell_type": "code",
   "execution_count": null,
   "id": "4549269d",
   "metadata": {},
   "outputs": [],
   "source": []
  }
 ],
 "metadata": {
  "kernelspec": {
   "display_name": "Python 3 (ipykernel)",
   "language": "python",
   "name": "python3"
  },
  "language_info": {
   "codemirror_mode": {
    "name": "ipython",
    "version": 3
   },
   "file_extension": ".py",
   "mimetype": "text/x-python",
   "name": "python",
   "nbconvert_exporter": "python",
   "pygments_lexer": "ipython3",
   "version": "3.9.13"
  }
 },
 "nbformat": 4,
 "nbformat_minor": 5
}
