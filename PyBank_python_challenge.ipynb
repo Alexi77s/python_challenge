{
 "cells": [
  {
   "cell_type": "code",
   "execution_count": 7,
   "id": "d41a0829",
   "metadata": {},
   "outputs": [
    {
     "name": "stdout",
     "output_type": "stream",
     "text": [
      "Financial Analysis\n",
      "Total Months: 86\n",
      "Total Profits: $22564198\n",
      "Average change: $-8311.11\n",
      "Greatest increase in profit: Jul-16 , $1862002\n",
      "Greatest decrease in profits: Jan-14 ,$-1825558\n",
      "\n"
     ]
    }
   ],
   "source": [
    "#import data\n",
    "import os\n",
    "import csv\n",
    "\n",
    "\n",
    "\n",
    "#path to retrieve file\n",
    "PyBankpath=os.path.join('..', 'Resources', 'budget_data.csv')\n",
    "\n",
    "PyBankpath=r\"C:\\Users\\alexi\\Downloads\\Starter_Code (10)\\Starter_Code\\PyBank\\Resources\\budget_data.csv\"\n",
    "\n",
    "#file when finished with assignment\n",
    "#file=Path(\"python_challenge\", \"PyBank\",\"budget_data.csv\")\n",
    "\n",
    "#creating list\n",
    "profit=[]\n",
    "dates=[]\n",
    "total_profit=[]\n",
    "monthly_change=[]\n",
    "\n",
    "#setting path with csv and setting up the calcualtions and the ask\n",
    "with open(PyBankpath, encoding='utf') as csvfile:\n",
    "    csvreader=csv.reader(csvfile,delimiter=\",\")\n",
    "    csv_header=next(csvreader)\n",
    "    \n",
    "    #assigning the lists\n",
    "    for row in csvreader:\n",
    "        \n",
    "        month=row[0]\n",
    "        profitLosses=row[1]\n",
    "        dates.append(month)\n",
    "        profit.append(profitLosses)\n",
    "        total_profit.append(int(profitLosses))\n",
    "       \n",
    "     #total of months   \n",
    "    count=len(dates)\n",
    " \n",
    "   # total_profit=total_profit + int(row[1])\n",
    "    for i in range(len(total_profit)-1):\n",
    "        monthly_change.append(total_profit[i+1]-total_profit[i])\n",
    " \n",
    "    \n",
    "    #min and max change with dates\n",
    "        greatest_increase_profits=max(monthly_change)\n",
    "        greatest_decrease_profits=min(monthly_change)       \n",
    "        increase_date=dates[monthly_change.index(greatest_increase_profits)]\n",
    "        decrease_date=dates[monthly_change.index(greatest_decrease_profits)]\n",
    " \n",
    "\n",
    "\n",
    "\n",
    "#outputting the file\n",
    "\n",
    "analysis=f'\\\n",
    "Financial Analysis\\n\\\n",
    "Total Months: {str(count)}\\n\\\n",
    "Total Profits: ${sum(total_profit)}\\n\\\n",
    "Average change: ${round(sum(monthly_change)/len(monthly_change),2)}\\n\\\n",
    "Greatest increase in profit: {increase_date} , ${str(greatest_increase_profits)}\\n\\\n",
    "Greatest decrease in profits: {decrease_date} ,${str(greatest_decrease_profits)}\\n'\n",
    "\n",
    "print(analysis)\n",
    "\n",
    "file=open(\"pybank.txt\", \"w\")\n",
    "file.writelines(analysis)\n",
    "file.close()"
   ]
  },
  {
   "cell_type": "code",
   "execution_count": null,
   "id": "7cef04c7",
   "metadata": {},
   "outputs": [],
   "source": []
  },
  {
   "cell_type": "code",
   "execution_count": null,
   "id": "dd8a6a60",
   "metadata": {},
   "outputs": [],
   "source": []
  }
 ],
 "metadata": {
  "kernelspec": {
   "display_name": "Python 3 (ipykernel)",
   "language": "python",
   "name": "python3"
  },
  "language_info": {
   "codemirror_mode": {
    "name": "ipython",
    "version": 3
   },
   "file_extension": ".py",
   "mimetype": "text/x-python",
   "name": "python",
   "nbconvert_exporter": "python",
   "pygments_lexer": "ipython3",
   "version": "3.9.13"
  }
 },
 "nbformat": 4,
 "nbformat_minor": 5
}
